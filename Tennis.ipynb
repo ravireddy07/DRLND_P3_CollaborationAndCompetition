{
 "cells": [
  {
   "cell_type": "markdown",
   "metadata": {},
   "source": [
    "# Collaboration and Competition\n",
    "\n",
    "---\n",
    "\n",
    "You are welcome to use this coding environment to train your agent for the project.  Follow the instructions below to get started!\n",
    "\n",
    "### 1. Start the Environment\n",
    "\n",
    "Run the next code cell to install a few packages.  This line will take a few minutes to run!"
   ]
  },
  {
   "cell_type": "code",
   "execution_count": 1,
   "metadata": {},
   "outputs": [
    {
     "name": "stdout",
     "output_type": "stream",
     "text": [
      "\u001b[31mtensorflow 1.7.1 has requirement numpy>=1.13.3, but you'll have numpy 1.12.1 which is incompatible.\u001b[0m\r\n",
      "\u001b[31mipython 6.5.0 has requirement prompt-toolkit<2.0.0,>=1.0.15, but you'll have prompt-toolkit 2.0.10 which is incompatible.\u001b[0m\r\n"
     ]
    }
   ],
   "source": [
    "!pip -q install ./python"
   ]
  },
  {
   "cell_type": "markdown",
   "metadata": {},
   "source": [
    "The environment is already saved in the Workspace and can be accessed at the file path provided below. "
   ]
  },
  {
   "cell_type": "code",
   "execution_count": 2,
   "metadata": {},
   "outputs": [],
   "source": [
    "import matplotlib.pyplot as plt\n",
    "%matplotlib inline\n",
    "\n",
    "import numpy as np\n",
    "import random\n",
    "import time\n",
    "import torch\n",
    "\n",
    "from collections import deque\n",
    "from unityagents import UnityEnvironment\n",
    "\n",
    "from maddpg_agent import Agent"
   ]
  },
  {
   "cell_type": "code",
   "execution_count": 3,
   "metadata": {},
   "outputs": [
    {
     "name": "stderr",
     "output_type": "stream",
     "text": [
      "INFO:unityagents:\n",
      "'Academy' started successfully!\n",
      "Unity Academy name: Academy\n",
      "        Number of Brains: 1\n",
      "        Number of External Brains : 1\n",
      "        Lesson number : 0\n",
      "        Reset Parameters :\n",
      "\t\t\n",
      "Unity brain name: TennisBrain\n",
      "        Number of Visual Observations (per agent): 0\n",
      "        Vector Observation space type: continuous\n",
      "        Vector Observation space size (per agent): 8\n",
      "        Number of stacked Vector Observation: 3\n",
      "        Vector Action space type: continuous\n",
      "        Vector Action space size (per agent): 2\n",
      "        Vector Action descriptions: , \n"
     ]
    }
   ],
   "source": [
    "env = UnityEnvironment(file_name=\"/data/Tennis_Linux_NoVis/Tennis\")"
   ]
  },
  {
   "cell_type": "markdown",
   "metadata": {},
   "source": [
    "Environments contain **_brains_** which are responsible for deciding the actions of their associated agents. Here we check for the first brain available, and set it as the default brain we will be controlling from Python."
   ]
  },
  {
   "cell_type": "code",
   "execution_count": 4,
   "metadata": {},
   "outputs": [],
   "source": [
    "# get the default brain\n",
    "brain_name = env.brain_names[0]\n",
    "brain = env.brains[brain_name]"
   ]
  },
  {
   "cell_type": "markdown",
   "metadata": {},
   "source": [
    "### 2. Examine the State and Action Spaces\n",
    "\n",
    "Run the code cell below to print some information about the environment."
   ]
  },
  {
   "cell_type": "code",
   "execution_count": 5,
   "metadata": {},
   "outputs": [
    {
     "name": "stdout",
     "output_type": "stream",
     "text": [
      "Number of agents: 2\n",
      "Size of each action: 2\n",
      "There are 2 agents. Each observes a state with length: 24\n",
      "The state for the first agent looks like: [ 0.          0.          0.          0.          0.          0.          0.\n",
      "  0.          0.          0.          0.          0.          0.          0.\n",
      "  0.          0.         -6.65278625 -1.5        -0.          0.\n",
      "  6.83172083  6.         -0.          0.        ]\n"
     ]
    }
   ],
   "source": [
    "# reset the environment\n",
    "env_info = env.reset(train_mode=True)[brain_name]\n",
    "\n",
    "# number of agents \n",
    "num_agents = len(env_info.agents)\n",
    "print('Number of agents:', num_agents)\n",
    "\n",
    "# size of each action\n",
    "action_size = brain.vector_action_space_size\n",
    "print('Size of each action:', action_size)\n",
    "\n",
    "# examine the state space \n",
    "states = env_info.vector_observations\n",
    "state_size = states.shape[1]\n",
    "print('There are {} agents. Each observes a state with length: {}'.format(states.shape[0], state_size))\n",
    "print('The state for the first agent looks like:', states[0])"
   ]
  },
  {
   "cell_type": "markdown",
   "metadata": {},
   "source": [
    "### 3. Take Random Actions in the Environment\n",
    "\n",
    "In the next code cell, you will learn how to use the Python API to control the agent and receive feedback from the environment.\n",
    "\n",
    "Note that **in this coding environment, you will not be able to watch the agents while they are training**, and you should set `train_mode=True` to restart the environment."
   ]
  },
  {
   "cell_type": "code",
   "execution_count": 6,
   "metadata": {},
   "outputs": [],
   "source": [
    "def play(random=True):\n",
    "    \n",
    "    # Reset the environment\n",
    "    env_info = env.reset(train_mode=False)[brain_name]\n",
    "    # Get the current state\n",
    "    states = env_info.vector_observations\n",
    "    # Initialize the score to 0\n",
    "    scores = []\n",
    "    while True:\n",
    "        if random:\n",
    "            # Select a random action for the agent\n",
    "            actions = np.random.randn(num_agents, action_size) \n",
    "            # Clip the actions so that all actions are between -1 and 1\n",
    "            actions = np.clip(actions, -1, 1)                 \n",
    "        else:\n",
    "            # Select an action from making the agent act if random is not True\n",
    "            actions = get_actions(states, add_noise=False)\n",
    "        # Send actions to environment\n",
    "        env_info = env.step(actions)[brain_name]      \n",
    "        # Get the next states\n",
    "        next_states = env_info.vector_observations         \n",
    "        # Get the rewards\n",
    "        rewards = env_info.rewards                         \n",
    "        # Check if episode has finished\n",
    "        dones = env_info.local_done                     \n",
    "        # Update the scores and the states\n",
    "        scores, states = scores+env_info.rewards, next_states                        \n",
    "        # Exit loop if the episode has finished\n",
    "        if np.any(dones):                                 \n",
    "            break\n",
    "    \n",
    "    return round(np.max(scores), 2)"
   ]
  },
  {
   "cell_type": "code",
   "execution_count": 7,
   "metadata": {},
   "outputs": [
    {
     "name": "stdout",
     "output_type": "stream",
     "text": [
      "Average score for trial 1: 0.0\n",
      "Average score for trial 2: 0.0\n",
      "Average score for trial 3: 0.0\n",
      "Average score for trial 4: 0.0\n",
      "Average score for trial 5: 0.0\n"
     ]
    }
   ],
   "source": [
    "trials = 5\n",
    "\n",
    "for trial in range(trials):\n",
    "    score = play()\n",
    "    print('Average score for trial {}: {}'.format(trial+1, score))"
   ]
  },
  {
   "cell_type": "code",
   "execution_count": 8,
   "metadata": {},
   "outputs": [],
   "source": [
    "# Function to combine the actions of both agents\n",
    "\n",
    "def get_actions(states, add_noise):\n",
    "    action_0 = agent_0.act(states, add_noise)\n",
    "    action_1 = agent_1.act(states, add_noise)\n",
    "    return np.concatenate((action_0, action_1), axis=0).flatten()"
   ]
  },
  {
   "cell_type": "markdown",
   "metadata": {},
   "source": [
    "### 4. Train the agents with a neural network"
   ]
  },
  {
   "cell_type": "code",
   "execution_count": 9,
   "metadata": {},
   "outputs": [],
   "source": [
    "# Some common parameters to use\n",
    "print_every = 10\n",
    "add_noise = True\n",
    "\n",
    "num_states = state_size"
   ]
  },
  {
   "cell_type": "markdown",
   "metadata": {},
   "source": [
    "To train the agent we use an actor and a critic networks in a Multi-Agent Deep Deterministic Policy Gradient.\n",
    "\n",
    "Both the actor and critic networks use 2 fully connected layers of depth 256 and 128. Batch normalization is applied to the input of the intermediate layer.\n",
    "\n",
    "The hyper parameters used are the following:\n",
    "\n",
    "BUFFER_SIZE = int(1e6)  # replay buffer size\n",
    "\n",
    "BATCH_SIZE = 128        # minibatch size\n",
    "\n",
    "LR_ACTOR = 1e-4         # learning rate of the actor\n",
    "\n",
    "LR_CRITIC = 1e-3        # learning rate of the critic\n",
    "\n",
    "WEIGHT_DECAY = 0        # L2 weight decay\n",
    "\n",
    "LEARN_EVERY = 10        # learning timestep interval\n",
    "\n",
    "LEARN_NUM = 5           # number of learning passes\n",
    "\n",
    "GAMMA = 0.99            # discount factor\n",
    "\n",
    "TAU = 3e-2              # for soft update of target parameters\n",
    "\n",
    "OU_SIGMA = 0.1          # Ornstein-Uhlenbeck noise parameter, volatility\n",
    "\n",
    "OU_THETA = 0.15         # Ornstein-Uhlenbeck noise parameter, speed of mean reversion\n",
    "\n",
    "EPS_START = 5.0         # initial value for epsilon in noise decay process in Agent.act()\n",
    "\n",
    "EPS_EP_END = 300        # episode to end the noise decay process\n",
    "\n",
    "EPS_FINAL = 0           # final value for epsilon after decay"
   ]
  },
  {
   "cell_type": "code",
   "execution_count": 10,
   "metadata": {},
   "outputs": [],
   "source": [
    "def maddpg(n_episodes=1500, max_t=1000, print_every=10):\n",
    "    \"\"\"Multi-Agent Deep Deterministic Policy Gradient (MADDPG)\n",
    "    \n",
    "    Params\n",
    "    ======\n",
    "        n_episodes (int)      : maximum number of training episodes\n",
    "        max_t (int)           : maximum number of timesteps per episode\n",
    "\n",
    "    \"\"\"\n",
    "    scores_window = deque(maxlen=100)\n",
    "    scores_all = []\n",
    "    moving_average = []\n",
    "    best_score = -np.inf\n",
    "    best_episode = 0\n",
    "    solved = False\n",
    "    c_states = num_states * 2 # combine states\n",
    "\n",
    "    for i_episode in range(1, n_episodes+1):\n",
    "        env_info = env.reset(train_mode=True)[brain_name]\n",
    "        states = np.reshape(env_info.vector_observations, (1,c_states))\n",
    "        \n",
    "        agent_0.reset()\n",
    "        agent_1.reset()\n",
    "        \n",
    "        scores = np.zeros(num_agents)\n",
    "        while True:\n",
    "            actions = get_actions(states, add_noise=True)\n",
    "            env_info = env.step(actions)[brain_name]\n",
    "            next_states = np.reshape(env_info.vector_observations, (1,c_states))\n",
    "            rewards = env_info.rewards\n",
    "            done = env_info.local_done\n",
    "            agent_0.step(states, actions, rewards[0], next_states, done, 0)\n",
    "            agent_1.step(states, actions, rewards[1], next_states, done, 1)\n",
    "            scores += np.max(rewards)\n",
    "            states = next_states\n",
    "            if np.any(done):\n",
    "                break\n",
    "\n",
    "        ep_best = np.max(scores)\n",
    "        scores_window.append(ep_best)\n",
    "        scores_all.append(ep_best)\n",
    "        moving_average.append(np.mean(scores_window))\n",
    "        \n",
    "        if i_episode % print_every == 0:\n",
    "            print('\\tEpisode {}\\tMoving Average: {:.3f}'.format(i_episode, moving_average[-1]))\n",
    "\n",
    "        if moving_average[-1] >= 0.5: # Reached goal?\n",
    "            if not solved:\n",
    "                print('\\n\\tEnvironment solved in {:d} episodes! \\\n",
    "                \\n\\tMoving Average: {:.3f} (over past {:d} episodes)\\n'.format(\n",
    "                    i_episode-100, moving_average[-1], 100))\n",
    "                torch.save(agent_0.actor_local.state_dict(), 'checkpoint_agent_0.pth')\n",
    "                torch.save(agent_1.critic_local.state_dict(), 'checkpoint_agent_1.pth')\n",
    "                solved = True\n",
    "                break\n",
    "            else:\n",
    "                continue\n",
    "            \n",
    "    return scores_all, moving_average"
   ]
  },
  {
   "cell_type": "code",
   "execution_count": 11,
   "metadata": {},
   "outputs": [],
   "source": [
    "# Initialize agents\n",
    "agent_0 = Agent(state_size, action_size, num_agents=1, random_seed=0)\n",
    "agent_1 = Agent(state_size, action_size, num_agents=1, random_seed=0)"
   ]
  },
  {
   "cell_type": "code",
   "execution_count": 12,
   "metadata": {},
   "outputs": [
    {
     "name": "stdout",
     "output_type": "stream",
     "text": [
      "\tEpisode 10\tMoving Average: 0.000\n",
      "\tEpisode 20\tMoving Average: 0.005\n",
      "\tEpisode 30\tMoving Average: 0.003\n",
      "\tEpisode 40\tMoving Average: 0.005\n",
      "\tEpisode 50\tMoving Average: 0.004\n",
      "\tEpisode 60\tMoving Average: 0.003\n",
      "\tEpisode 70\tMoving Average: 0.004\n",
      "\tEpisode 80\tMoving Average: 0.004\n",
      "\tEpisode 90\tMoving Average: 0.003\n",
      "\tEpisode 100\tMoving Average: 0.003\n",
      "\tEpisode 110\tMoving Average: 0.004\n",
      "\tEpisode 120\tMoving Average: 0.005\n",
      "\tEpisode 130\tMoving Average: 0.011\n",
      "\tEpisode 140\tMoving Average: 0.010\n",
      "\tEpisode 150\tMoving Average: 0.010\n",
      "\tEpisode 160\tMoving Average: 0.012\n",
      "\tEpisode 170\tMoving Average: 0.018\n",
      "\tEpisode 180\tMoving Average: 0.022\n",
      "\tEpisode 190\tMoving Average: 0.025\n",
      "\tEpisode 200\tMoving Average: 0.026\n",
      "\tEpisode 210\tMoving Average: 0.029\n",
      "\tEpisode 220\tMoving Average: 0.030\n",
      "\tEpisode 230\tMoving Average: 0.029\n",
      "\tEpisode 240\tMoving Average: 0.039\n",
      "\tEpisode 250\tMoving Average: 0.043\n",
      "\tEpisode 260\tMoving Average: 0.048\n",
      "\tEpisode 270\tMoving Average: 0.046\n",
      "\tEpisode 280\tMoving Average: 0.048\n",
      "\tEpisode 290\tMoving Average: 0.052\n",
      "\tEpisode 300\tMoving Average: 0.058\n",
      "\tEpisode 310\tMoving Average: 0.059\n",
      "\tEpisode 320\tMoving Average: 0.066\n",
      "\tEpisode 330\tMoving Average: 0.071\n",
      "\tEpisode 340\tMoving Average: 0.069\n",
      "\tEpisode 350\tMoving Average: 0.077\n",
      "\tEpisode 360\tMoving Average: 0.083\n",
      "\tEpisode 370\tMoving Average: 0.092\n",
      "\tEpisode 380\tMoving Average: 0.096\n",
      "\tEpisode 390\tMoving Average: 0.099\n",
      "\tEpisode 400\tMoving Average: 0.103\n",
      "\tEpisode 410\tMoving Average: 0.112\n",
      "\tEpisode 420\tMoving Average: 0.116\n",
      "\tEpisode 430\tMoving Average: 0.122\n",
      "\tEpisode 440\tMoving Average: 0.126\n",
      "\tEpisode 450\tMoving Average: 0.128\n",
      "\tEpisode 460\tMoving Average: 0.128\n",
      "\tEpisode 470\tMoving Average: 0.123\n",
      "\tEpisode 480\tMoving Average: 0.126\n",
      "\tEpisode 490\tMoving Average: 0.134\n",
      "\tEpisode 500\tMoving Average: 0.131\n",
      "\tEpisode 510\tMoving Average: 0.133\n",
      "\tEpisode 520\tMoving Average: 0.153\n",
      "\tEpisode 530\tMoving Average: 0.161\n",
      "\tEpisode 540\tMoving Average: 0.159\n",
      "\tEpisode 550\tMoving Average: 0.174\n",
      "\tEpisode 560\tMoving Average: 0.179\n",
      "\tEpisode 570\tMoving Average: 0.192\n",
      "\tEpisode 580\tMoving Average: 0.216\n",
      "\tEpisode 590\tMoving Average: 0.364\n",
      "\tEpisode 600\tMoving Average: 0.479\n",
      "\n",
      "\tEnvironment solved in 502 episodes!                 \n",
      "\tMoving Average: 0.512 (over past 100 episodes)\n",
      "\n",
      "Time elapsed: 6.0min 11.39sec.\n"
     ]
    }
   ],
   "source": [
    "start = time.time()\n",
    "\n",
    "scores, moving_average = maddpg()\n",
    "\n",
    "end = time.time()\n",
    "elapsed = (end - start)\n",
    "print(\"Time elapsed: {}min {:.2f}sec.\".format(elapsed//60, elapsed%60))"
   ]
  },
  {
   "cell_type": "code",
   "execution_count": 13,
   "metadata": {},
   "outputs": [
    {
     "data": {
      "image/png": "[encoded data removed]",
      "text/plain": [
       "<matplotlib.figure.Figure at 0x7fd5aa44fc88>"
      ]
     },
     "metadata": {
      "needs_background": "light"
     },
     "output_type": "display_data"
    }
   ],
   "source": [
    "# Plot the scores\n",
    "\n",
    "fig, ax = plt.subplots()\n",
    "ax.plot(np.arange(len(scores)), scores, label='DDPG')\n",
    "ax.set_ylabel('Score')\n",
    "ax.set_xlabel('Episode Number')\n",
    "ax.spines['top'].set_visible(False)\n",
    "ax.spines['right'].set_visible(False)\n",
    "plt.show()"
   ]
  },
  {
   "cell_type": "markdown",
   "metadata": {},
   "source": [
    "### 5. Future Improvements"
   ]
  },
  {
   "cell_type": "markdown",
   "metadata": {},
   "source": [
    "To improve the performance of the agents, we could:\n",
    "1. Fine tune the hyperparameters some more\n",
    "2. Try more complex MARL architectures"
   ]
  },
  {
   "cell_type": "code",
   "execution_count": null,
   "metadata": {},
   "outputs": [],
   "source": [
    "env.close()"
   ]
  }
 ],
 "metadata": {
  "kernelspec": {
   "display_name": "Python 3",
   "language": "python",
   "name": "python3"
  },
  "language_info": {
   "codemirror_mode": {
    "name": "ipython",
    "version": 3
   },
   "file_extension": ".py",
   "mimetype": "text/x-python",
   "name": "python",
   "nbconvert_exporter": "python",
   "pygments_lexer": "ipython3",
   "version": "3.6.3"
  }
 },
 "nbformat": 4,
 "nbformat_minor": 2
}
